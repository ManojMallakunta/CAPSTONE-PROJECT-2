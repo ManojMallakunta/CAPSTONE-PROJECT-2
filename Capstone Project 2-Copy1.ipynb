{
 "cells": [
  {
   "cell_type": "markdown",
   "id": "0ca850a8",
   "metadata": {},
   "source": [
    "### Creating a simple project to generate Captcha & OTP \n",
    "    "
   ]
  },
  {
   "cell_type": "code",
   "execution_count": 1,
   "id": "e1462bda",
   "metadata": {},
   "outputs": [
    {
     "name": "stdout",
     "output_type": "stream",
     "text": [
      "GENERATED captcha : eWQZzj\n",
      "ENTER YOUR Captcha :eWQZzj\n",
      "Captcha VERIFIED SUCCESSFULLY\n",
      "GENERATED OTP : 202003\n",
      "ENTER YOUR OTP :202003\n",
      "OTP VERIFIED SUCCESSFULLY\n"
     ]
    }
   ],
   "source": [
    "import os\n",
    "input\n",
    "\n",
    "# Importing random to generate random string sequence\n",
    "import random\n",
    "    \n",
    "# Importing string library function\n",
    "import string\n",
    "\n",
    "#creating function to generate captcha\n",
    "def generatecaptcha(size):\n",
    "        \n",
    "    # select random choices from ascii_letters and digits\n",
    "    generatecaptcha = ''.join([random.choice( string.ascii_uppercase +string.ascii_lowercase +string.digits)for i in range(size)])\n",
    "                            \n",
    "    return generatecaptcha\n",
    "        \n",
    "# Source Code \n",
    "captcha = generatecaptcha(6)\n",
    "print(\"GENERATED captcha :\",captcha)\n",
    "\n",
    "# verifying Source code\n",
    "\n",
    "a=input(\"ENTER YOUR Captcha :\")\n",
    "if a==captcha:\n",
    "    print(\"Captcha VERIFIED SUCCESSFULLY\")\n",
    "if a!=captcha:\n",
    "    os._exit(0)\n",
    "    \n",
    "#in case entered captcha is incorrect it will stop hear.    \n",
    "    \n",
    "\n",
    "#creating function to generate OTP\n",
    "def generateOTP(size):\n",
    "        \n",
    "    # select random choices from ascii_letters and digits\n",
    "    generateOTP = ''.join([random.choice(string.digits)for i in range(size)])\n",
    "                            \n",
    "    return generateOTP\n",
    " \n",
    "# Source Code \n",
    "OTP = generateOTP(6)\n",
    "print(\"GENERATED OTP :\",OTP)\n",
    "\n",
    "# verifying Source code\n",
    "\n",
    "b=input(\"ENTER YOUR OTP :\")\n",
    "if b==OTP:\n",
    "    print(\"OTP VERIFIED SUCCESSFULLY\")\n",
    "else:\n",
    "    print(\"OTP INCORRECT TRY AGAIN \")\n",
    "    \n",
    "    \n",
    "    \n",
    "    \n",
    "#output:-    \n",
    "#GENERATED captcha : eWQZzj\n",
    "#ENTER YOUR Captcha :eWQZzj\n",
    "#Captcha VERIFIED SUCCESSFULLY\n",
    "#GENERATED OTP : 202003\n",
    "#ENTER YOUR OTP :202003\n",
    "#OTP VERIFIED SUCCESSFULLY\n"
   ]
  }
 ],
 "metadata": {
  "kernelspec": {
   "display_name": "Python 3 (ipykernel)",
   "language": "python",
   "name": "python3"
  },
  "language_info": {
   "codemirror_mode": {
    "name": "ipython",
    "version": 3
   },
   "file_extension": ".py",
   "mimetype": "text/x-python",
   "name": "python",
   "nbconvert_exporter": "python",
   "pygments_lexer": "ipython3",
   "version": "3.9.7"
  }
 },
 "nbformat": 4,
 "nbformat_minor": 5
}
